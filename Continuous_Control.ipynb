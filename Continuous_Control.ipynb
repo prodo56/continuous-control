{
 "cells": [
  {
   "cell_type": "markdown",
   "metadata": {},
   "source": [
    "# Continuous Control\n",
    "\n",
    "---\n",
    "\n",
    "You are welcome to use this coding environment to train your agent for the project.  Follow the instructions below to get started!\n",
    "\n",
    "### 1. Start the Environment\n",
    "\n",
    "Run the next code cell to install a few packages.  This line will take a few minutes to run!"
   ]
  },
  {
   "cell_type": "code",
   "execution_count": null,
   "metadata": {},
   "outputs": [],
   "source": [
    "# !curl -O https://raw.githubusercontent.com/udacity/workspaces-student-support/master/jupyter/workspace_utils.py\n"
   ]
  },
  {
   "cell_type": "code",
   "execution_count": null,
   "metadata": {},
   "outputs": [],
   "source": [
    "# !pip -q install ./python"
   ]
  },
  {
   "cell_type": "markdown",
   "metadata": {},
   "source": [
    "The environments corresponding to both versions of the environment are already saved in the Workspace and can be accessed at the file paths provided below.  \n",
    "\n",
    "Please select one of the two options below for loading the environment."
   ]
  },
  {
   "cell_type": "code",
   "execution_count": 1,
   "metadata": {},
   "outputs": [
    {
     "name": "stderr",
     "output_type": "stream",
     "text": [
      "INFO:unityagents:\n",
      "'Academy' started successfully!\n",
      "Unity Academy name: Academy\n",
      "        Number of Brains: 1\n",
      "        Number of External Brains : 1\n",
      "        Lesson number : 0\n",
      "        Reset Parameters :\n",
      "\t\tgoal_size -> 5.0\n",
      "\t\tgoal_speed -> 1.0\n",
      "Unity brain name: ReacherBrain\n",
      "        Number of Visual Observations (per agent): 0\n",
      "        Vector Observation space type: continuous\n",
      "        Vector Observation space size (per agent): 33\n",
      "        Number of stacked Vector Observation: 1\n",
      "        Vector Action space type: continuous\n",
      "        Vector Action space size (per agent): 4\n",
      "        Vector Action descriptions: , , , \n"
     ]
    }
   ],
   "source": [
    "from unityagents import UnityEnvironment\n",
    "import numpy as np\n",
    "\n",
    "# select this option to load version 1 (with a single agent) of the environment\n",
    "# env = UnityEnvironment(file_name='/data/Reacher_One_Linux_NoVis/Reacher_One_Linux_NoVis.x86_64')\n",
    "\n",
    "# select this option to load version 2 (with 20 agents) of the environment\n",
    "env = UnityEnvironment(file_name='Reacher_Linux_NoVis/Reacher.x86_64')"
   ]
  },
  {
   "cell_type": "markdown",
   "metadata": {},
   "source": [
    "Environments contain **_brains_** which are responsible for deciding the actions of their associated agents. Here we check for the first brain available, and set it as the default brain we will be controlling from Python."
   ]
  },
  {
   "cell_type": "code",
   "execution_count": 2,
   "metadata": {},
   "outputs": [],
   "source": [
    "# get the default brain\n",
    "brain_name = env.brain_names[0]\n",
    "brain = env.brains[brain_name]"
   ]
  },
  {
   "cell_type": "markdown",
   "metadata": {},
   "source": [
    "### 2. Examine the State and Action Spaces\n",
    "\n",
    "Run the code cell below to print some information about the environment."
   ]
  },
  {
   "cell_type": "code",
   "execution_count": 3,
   "metadata": {},
   "outputs": [
    {
     "name": "stdout",
     "output_type": "stream",
     "text": [
      "Number of agents: 20\n",
      "Size of each action: 4\n",
      "There are 20 agents. Each observes a state with length: 33\n",
      "The state for the first agent looks like: [ 0.00000000e+00 -4.00000000e+00  0.00000000e+00  1.00000000e+00\n",
      " -0.00000000e+00 -0.00000000e+00 -4.37113883e-08  0.00000000e+00\n",
      "  0.00000000e+00  0.00000000e+00  0.00000000e+00  0.00000000e+00\n",
      "  0.00000000e+00  0.00000000e+00 -1.00000000e+01  0.00000000e+00\n",
      "  1.00000000e+00 -0.00000000e+00 -0.00000000e+00 -4.37113883e-08\n",
      "  0.00000000e+00  0.00000000e+00  0.00000000e+00  0.00000000e+00\n",
      "  0.00000000e+00  0.00000000e+00  5.75471878e+00 -1.00000000e+00\n",
      "  5.55726624e+00  0.00000000e+00  1.00000000e+00  0.00000000e+00\n",
      " -1.68164849e-01]\n"
     ]
    }
   ],
   "source": [
    "# reset the environment\n",
    "env_info = env.reset(train_mode=True)[brain_name]\n",
    "\n",
    "# number of agents\n",
    "num_agents = len(env_info.agents)\n",
    "print('Number of agents:', num_agents)\n",
    "\n",
    "# size of each action\n",
    "action_size = brain.vector_action_space_size\n",
    "print('Size of each action:', action_size)\n",
    "\n",
    "# examine the state space \n",
    "states = env_info.vector_observations\n",
    "state_size = states.shape[1]\n",
    "print('There are {} agents. Each observes a state with length: {}'.format(states.shape[0], state_size))\n",
    "print('The state for the first agent looks like:', states[0])"
   ]
  },
  {
   "cell_type": "markdown",
   "metadata": {},
   "source": [
    "### 3. Take Random Actions in the Environment\n",
    "\n",
    "In the next code cell, you will learn how to use the Python API to control the agent and receive feedback from the environment.\n",
    "\n",
    "Note that **in this coding environment, you will not be able to watch the agents while they are training**, and you should set `train_mode=True` to restart the environment."
   ]
  },
  {
   "cell_type": "code",
   "execution_count": 4,
   "metadata": {},
   "outputs": [
    {
     "name": "stdout",
     "output_type": "stream",
     "text": [
      "Total score (averaged over agents) this episode: 0.17449999609962105\n"
     ]
    }
   ],
   "source": [
    "env_info = env.reset(train_mode=True)[brain_name]      # reset the environment    \n",
    "states = env_info.vector_observations                  # get the current state (for each agent)\n",
    "scores = np.zeros(num_agents)                          # initialize the score (for each agent)\n",
    "while True:\n",
    "    actions = np.random.randn(num_agents, action_size) # select an action (for each agent)\n",
    "    actions = np.clip(actions, -1, 1)                  # all actions between -1 and 1\n",
    "    env_info = env.step(actions)[brain_name]           # send all actions to tne environment\n",
    "    next_states = env_info.vector_observations         # get next state (for each agent)\n",
    "    rewards = env_info.rewards                         # get reward (for each agent)\n",
    "    dones = env_info.local_done                        # see if episode finished\n",
    "    scores += env_info.rewards                         # update the score (for each agent)\n",
    "    states = next_states                               # roll over states to next time step\n",
    "    if np.any(dones):                                  # exit loop if episode finished\n",
    "        break\n",
    "print('Total score (averaged over agents) this episode: {}'.format(np.mean(scores)))"
   ]
  },
  {
   "cell_type": "markdown",
   "metadata": {},
   "source": [
    "When finished, you can close the environment."
   ]
  },
  {
   "cell_type": "code",
   "execution_count": 5,
   "metadata": {},
   "outputs": [],
   "source": [
    "# env.close()"
   ]
  },
  {
   "cell_type": "markdown",
   "metadata": {},
   "source": [
    "### 4. It's Your Turn!\n",
    "\n",
    "Now it's your turn to train your own agent to solve the environment!  A few **important notes**:\n",
    "- When training the environment, set `train_mode=True`, so that the line for resetting the environment looks like the following:\n",
    "```python\n",
    "env_info = env.reset(train_mode=True)[brain_name]\n",
    "```\n",
    "- To structure your work, you're welcome to work directly in this Jupyter notebook, or you might like to start over with a new file!  You can see the list of files in the workspace by clicking on **_Jupyter_** in the top left corner of the notebook.\n",
    "- In this coding environment, you will not be able to watch the agents while they are training.  However, **_after training the agents_**, you can download the saved model weights to watch the agents on your own machine! "
   ]
  },
  {
   "cell_type": "code",
   "execution_count": 6,
   "metadata": {},
   "outputs": [],
   "source": [
    "from ddpg_agent import Agent\n",
    "from collections import deque\n",
    "import matplotlib.pyplot as plt\n",
    "import torch\n",
    "\n",
    "%matplotlib inline"
   ]
  },
  {
   "cell_type": "code",
   "execution_count": 7,
   "metadata": {},
   "outputs": [],
   "source": [
    "def ddpg(n_episodes=1000, print_every=1, train_mode=True):\n",
    "    \"\"\"\n",
    "    DDPG : Deep Deterministic Policy Gradient\n",
    "    \n",
    "    Params:\n",
    "        n_episodes (int)      : maximum number of training episodes\n",
    "        train_mode (bool)     : If executing in Train mode\n",
    "        print_every (int)     : display results interval\n",
    "\n",
    "    \"\"\"\n",
    "    scores_avg = deque(maxlen=100)  # mean scores from most recent episodes\n",
    "    all_scores=[]\n",
    "    \n",
    "    for i_episode in range(1, n_episodes+1):\n",
    "        env_info = env.reset(train_mode=train_mode)[brain_name] # reset environment\n",
    "        states = env_info.vector_observations                   # get current state for each agent      \n",
    "        scores = np.zeros(num_agents)                           # initialize score for each agent\n",
    "        agent.reset()\n",
    "        for t in range(1000):\n",
    "            actions = agent.act(states, add_noise=True)         # select an action\n",
    "            env_info = env.step(actions)[brain_name]            # send actions to environment\n",
    "            next_states = env_info.vector_observations          # get next state\n",
    "            rewards = env_info.rewards                          # get reward\n",
    "            dones = env_info.local_done                         # see if episode has finished\n",
    "            # save experience to replay buffer, perform learning step at defined interval\n",
    "            for state, action, reward, next_state, done in zip(states, actions, rewards, next_states, dones):\n",
    "                agent.step(state, action, reward, next_state, done, t)             \n",
    "            states = next_states\n",
    "            scores += rewards        \n",
    "            if np.any(dones):                                   \n",
    "                break\n",
    "\n",
    "        scores_avg.append(np.mean(scores))    # save moving average\n",
    "        all_scores.append(np.mean(scores))\n",
    "                \n",
    "        if i_episode % print_every == 0:\n",
    "            print('\\rEpisode {} Avg Score: {:.1f}'.format(i_episode, np.mean(scores_avg)))\n",
    "                  \n",
    "        if np.mean(scores_avg)>=30 and i_episode >= 100:\n",
    "            print('\\nSOLVED in {} episodes!\\tWith an average score: {:.1f} over last 100 episodes'.format(\\\n",
    "                                    i_episode, np.mean(scores_avg)))            \n",
    "            if train_mode:\n",
    "                torch.save(agent.actor_local.state_dict(), 'checkpoint_actor.pth')\n",
    "                torch.save(agent.critic_local.state_dict(), 'checkpoint_critic.pth')  \n",
    "            break\n",
    "            \n",
    "    return scores_avg,all_scores"
   ]
  },
  {
   "cell_type": "code",
   "execution_count": 8,
   "metadata": {},
   "outputs": [],
   "source": [
    "agent = Agent(state_size=state_size, action_size=action_size, random_seed=2)\n"
   ]
  },
  {
   "cell_type": "code",
   "execution_count": 9,
   "metadata": {},
   "outputs": [
    {
     "name": "stderr",
     "output_type": "stream",
     "text": [
      "/home/generaluser/anaconda3/lib/python3.7/site-packages/torch/nn/functional.py:1340: UserWarning: nn.functional.tanh is deprecated. Use torch.tanh instead.\n",
      "  warnings.warn(\"nn.functional.tanh is deprecated. Use torch.tanh instead.\")\n"
     ]
    },
    {
     "name": "stdout",
     "output_type": "stream",
     "text": [
      "Episode 1 Avg Score: 0.9\n",
      "Episode 2 Avg Score: 1.2\n",
      "Episode 3 Avg Score: 1.3\n",
      "Episode 4 Avg Score: 1.4\n",
      "Episode 5 Avg Score: 1.6\n",
      "Episode 6 Avg Score: 1.8\n",
      "Episode 7 Avg Score: 1.9\n",
      "Episode 8 Avg Score: 2.1\n",
      "Episode 9 Avg Score: 2.3\n",
      "Episode 10 Avg Score: 2.5\n",
      "Episode 11 Avg Score: 2.8\n",
      "Episode 12 Avg Score: 3.0\n",
      "Episode 13 Avg Score: 3.3\n",
      "Episode 14 Avg Score: 3.5\n",
      "Episode 15 Avg Score: 3.6\n",
      "Episode 16 Avg Score: 3.8\n",
      "Episode 17 Avg Score: 4.0\n",
      "Episode 18 Avg Score: 4.2\n",
      "Episode 19 Avg Score: 4.4\n",
      "Episode 20 Avg Score: 4.7\n",
      "Episode 21 Avg Score: 5.1\n",
      "Episode 22 Avg Score: 5.4\n",
      "Episode 23 Avg Score: 5.6\n",
      "Episode 24 Avg Score: 5.9\n",
      "Episode 25 Avg Score: 6.1\n",
      "Episode 26 Avg Score: 6.4\n",
      "Episode 27 Avg Score: 6.7\n",
      "Episode 28 Avg Score: 6.9\n",
      "Episode 29 Avg Score: 7.2\n",
      "Episode 30 Avg Score: 7.4\n",
      "Episode 31 Avg Score: 7.7\n",
      "Episode 32 Avg Score: 8.0\n",
      "Episode 33 Avg Score: 8.4\n",
      "Episode 34 Avg Score: 8.7\n",
      "Episode 35 Avg Score: 9.0\n",
      "Episode 36 Avg Score: 9.4\n",
      "Episode 37 Avg Score: 9.7\n",
      "Episode 38 Avg Score: 10.1\n",
      "Episode 39 Avg Score: 10.4\n",
      "Episode 40 Avg Score: 10.7\n",
      "Episode 41 Avg Score: 11.1\n",
      "Episode 42 Avg Score: 11.4\n",
      "Episode 43 Avg Score: 11.8\n",
      "Episode 44 Avg Score: 12.2\n",
      "Episode 45 Avg Score: 12.5\n",
      "Episode 46 Avg Score: 12.9\n",
      "Episode 47 Avg Score: 13.2\n",
      "Episode 48 Avg Score: 13.5\n",
      "Episode 49 Avg Score: 13.8\n",
      "Episode 50 Avg Score: 14.0\n",
      "Episode 51 Avg Score: 14.3\n",
      "Episode 52 Avg Score: 14.7\n",
      "Episode 53 Avg Score: 15.0\n",
      "Episode 54 Avg Score: 15.3\n",
      "Episode 55 Avg Score: 15.5\n",
      "Episode 56 Avg Score: 15.9\n",
      "Episode 57 Avg Score: 16.2\n",
      "Episode 58 Avg Score: 16.5\n",
      "Episode 59 Avg Score: 16.8\n",
      "Episode 60 Avg Score: 17.1\n",
      "Episode 61 Avg Score: 17.4\n",
      "Episode 62 Avg Score: 17.7\n",
      "Episode 63 Avg Score: 18.0\n",
      "Episode 64 Avg Score: 18.3\n",
      "Episode 65 Avg Score: 18.5\n",
      "Episode 66 Avg Score: 18.8\n",
      "Episode 67 Avg Score: 19.1\n",
      "Episode 68 Avg Score: 19.4\n",
      "Episode 69 Avg Score: 19.6\n",
      "Episode 70 Avg Score: 19.9\n",
      "Episode 71 Avg Score: 20.1\n",
      "Episode 72 Avg Score: 20.4\n",
      "Episode 73 Avg Score: 20.6\n",
      "Episode 74 Avg Score: 20.8\n",
      "Episode 75 Avg Score: 21.0\n",
      "Episode 76 Avg Score: 21.2\n",
      "Episode 77 Avg Score: 21.5\n",
      "Episode 78 Avg Score: 21.7\n",
      "Episode 79 Avg Score: 21.9\n",
      "Episode 80 Avg Score: 22.0\n",
      "Episode 81 Avg Score: 22.2\n",
      "Episode 82 Avg Score: 22.4\n",
      "Episode 83 Avg Score: 22.5\n",
      "Episode 84 Avg Score: 22.7\n",
      "Episode 85 Avg Score: 22.8\n",
      "Episode 86 Avg Score: 22.9\n",
      "Episode 87 Avg Score: 23.1\n",
      "Episode 88 Avg Score: 23.2\n",
      "Episode 89 Avg Score: 23.3\n",
      "Episode 90 Avg Score: 23.5\n",
      "Episode 91 Avg Score: 23.6\n",
      "Episode 92 Avg Score: 23.6\n",
      "Episode 93 Avg Score: 23.7\n",
      "Episode 94 Avg Score: 23.8\n",
      "Episode 95 Avg Score: 23.9\n",
      "Episode 96 Avg Score: 24.1\n",
      "Episode 97 Avg Score: 24.2\n",
      "Episode 98 Avg Score: 24.3\n",
      "Episode 99 Avg Score: 24.4\n",
      "Episode 100 Avg Score: 24.6\n",
      "Episode 101 Avg Score: 24.9\n",
      "Episode 102 Avg Score: 25.2\n",
      "Episode 103 Avg Score: 25.4\n",
      "Episode 104 Avg Score: 25.7\n",
      "Episode 105 Avg Score: 26.0\n",
      "Episode 106 Avg Score: 26.3\n",
      "Episode 107 Avg Score: 26.6\n",
      "Episode 108 Avg Score: 26.9\n",
      "Episode 109 Avg Score: 27.1\n",
      "Episode 110 Avg Score: 27.4\n",
      "Episode 111 Avg Score: 27.8\n",
      "Episode 112 Avg Score: 28.1\n",
      "Episode 113 Avg Score: 28.4\n",
      "Episode 114 Avg Score: 28.7\n",
      "Episode 115 Avg Score: 29.0\n",
      "Episode 116 Avg Score: 29.3\n",
      "Episode 117 Avg Score: 29.6\n",
      "Episode 118 Avg Score: 29.8\n",
      "Episode 119 Avg Score: 30.1\n",
      "\n",
      "SOLVED in 119 episodes!\tWith an average score: 30.1 over last 100 episodes\n"
     ]
    }
   ],
   "source": [
    "# from workspace_utils import active_session\n",
    "\n",
    "# with active_session():\n",
    "scores,all_scores = ddpg()"
   ]
  },
  {
   "cell_type": "code",
   "execution_count": 10,
   "metadata": {},
   "outputs": [
    {
     "data": {
      "image/png": "[encoded data removed]",
      "text/plain": [
       "<Figure size 432x288 with 1 Axes>"
      ]
     },
     "metadata": {
      "needs_background": "light"
     },
     "output_type": "display_data"
    }
   ],
   "source": [
    "fig = plt.figure()\n",
    "ax = fig.add_subplot(111)\n",
    "plt.plot(np.arange(len(all_scores)), all_scores, label='DDPG')\n",
    "plt.ylabel('Score')\n",
    "plt.xlabel('Episode')\n",
    "plt.legend(loc='upper right');\n",
    "plt.show()"
   ]
  },
  {
   "cell_type": "code",
   "execution_count": null,
   "metadata": {},
   "outputs": [],
   "source": [
    "env.close()"
   ]
  },
  {
   "cell_type": "code",
   "execution_count": null,
   "metadata": {},
   "outputs": [],
   "source": [
    "# !tar chvfz continuous.tar.gz *"
   ]
  },
  {
   "cell_type": "code",
   "execution_count": null,
   "metadata": {},
   "outputs": [],
   "source": []
  },
  {
   "cell_type": "code",
   "execution_count": null,
   "metadata": {},
   "outputs": [],
   "source": []
  },
  {
   "cell_type": "code",
   "execution_count": null,
   "metadata": {},
   "outputs": [],
   "source": []
  }
 ],
 "metadata": {
  "kernelspec": {
   "display_name": "Python 3",
   "language": "python",
   "name": "python3"
  },
  "language_info": {
   "codemirror_mode": {
    "name": "ipython",
    "version": 3
   },
   "file_extension": ".py",
   "mimetype": "text/x-python",
   "name": "python",
   "nbconvert_exporter": "python",
   "pygments_lexer": "ipython3",
   "version": "3.7.5"
  }
 },
 "nbformat": 4,
 "nbformat_minor": 2
}
